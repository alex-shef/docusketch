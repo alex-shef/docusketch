{
 "cells": [
  {
   "cell_type": "code",
   "execution_count": null,
   "metadata": {
    "collapsed": true
   },
   "outputs": [],
   "source": [
    "import os\n",
    "import pandas as pd\n",
    "import matplotlib.pyplot as plt\n",
    "import numpy as np"
   ]
  },
  {
   "cell_type": "code",
   "execution_count": null,
   "outputs": [],
   "source": [
    "class PlotDrawer:\n",
    "    def __init__(self, dataframe):\n",
    "        self.dataframe = dataframe\n",
    "\n",
    "    def draw_plots(self):\n",
    "        os.makedirs(\"plots\", exist_ok=True)\n",
    "        paths = []\n",
    "\n",
    "        for column in self.dataframe.columns:\n",
    "            if self.dataframe[column].dtype != 'float64' and self.dataframe[column].dtype != 'int64' \\\n",
    "                    or column in ['gt_corners', 'rb_corners']:\n",
    "                continue\n",
    "\n",
    "            plt.figure(figsize=(10, 6))\n",
    "            plt.plot(self.dataframe[column])\n",
    "            plt.title(column)\n",
    "            plt.xlabel('Index')\n",
    "            plt.ylabel('Value')\n",
    "\n",
    "            plot_path = os.path.join(\"plots\", f\"{column}_plot.png\")\n",
    "            plt.savefig(plot_path)\n",
    "            plt.close()\n",
    "\n",
    "            paths.append(plot_path)\n",
    "\n",
    "        return paths\n",
    "\n",
    "    def draw_plots_for_every_row(self):\n",
    "        os.makedirs(\"plots_for_row\", exist_ok=True)\n",
    "        paths = []\n",
    "\n",
    "        for index, row in self.dataframe.iterrows():\n",
    "            fig, ax = plt.subplots()\n",
    "            ax.set_title(row['name'])\n",
    "\n",
    "            # Creating arrays for the X-axis and point values for the Y-axis\n",
    "            x = np.array([0, 1, 2])\n",
    "            y = np.array([row['min'], row['mean'], row['max']])\n",
    "            y_floor = np.array([row['floor_min'], row['floor_mean'], row['floor_max']])\n",
    "            y_ceiling = np.array([row['ceiling_min'], row['ceiling_mean'], row['ceiling_max']])\n",
    "\n",
    "            # Adding data series to the plot\n",
    "            ax.plot(x, y_ceiling, marker='o', label='Ceiling Min, Ceiling Mean, Ceiling Max')\n",
    "            ax.plot(x, y, marker='o', label='Min, Mean, Max')\n",
    "            ax.plot(x, y_floor, marker='o', label='Floor Min, Floor Mean, Floor Max')\n",
    "\n",
    "            ax.set_xticks(x)\n",
    "            ax.set_xticklabels(['Min', 'Mean', 'Max'])\n",
    "\n",
    "            ax.legend()\n",
    "\n",
    "            plot_path = f\"plots_for_row/{row['name'].replace('/', '_')}plot.png\"\n",
    "            print(index, plot_path)\n",
    "\n",
    "            plt.savefig(plot_path)\n",
    "            plt.close(fig)\n",
    "\n",
    "            paths.append(plot_path)\n",
    "\n",
    "        return paths"
   ],
   "metadata": {
    "collapsed": false
   }
  },
  {
   "cell_type": "code",
   "execution_count": null,
   "outputs": [],
   "source": [
    "json_file = \"deviation.json\"\n",
    "df = pd.read_json(json_file)\n",
    "plot_drawer = PlotDrawer(df)"
   ],
   "metadata": {
    "collapsed": false
   }
  },
  {
   "cell_type": "code",
   "execution_count": null,
   "outputs": [],
   "source": [
    "paths_for_general_plots = plot_drawer.draw_plots()"
   ],
   "metadata": {
    "collapsed": false
   }
  },
  {
   "cell_type": "code",
   "execution_count": null,
   "outputs": [],
   "source": [
    "#Creates plots for each 'name' (approximate execution time 350 sec):\n",
    "\n",
    "# paths_for_plots_for_row = plot_drawer.draw_plots_for_every_row()"
   ],
   "metadata": {
    "collapsed": false
   }
  },
  {
   "cell_type": "code",
   "execution_count": null,
   "outputs": [],
   "source": [
    "for path in paths_for_general_plots:\n",
    "    img = plt.imread(path)\n",
    "    plt.imshow(img)\n",
    "    plt.axis('off')\n",
    "    plt.show()"
   ],
   "metadata": {
    "collapsed": false
   }
  }
 ],
 "metadata": {
  "kernelspec": {
   "display_name": "Python 3",
   "language": "python",
   "name": "python3"
  },
  "language_info": {
   "codemirror_mode": {
    "name": "ipython",
    "version": 2
   },
   "file_extension": ".py",
   "mimetype": "text/x-python",
   "name": "python",
   "nbconvert_exporter": "python",
   "pygments_lexer": "ipython2",
   "version": "2.7.6"
  }
 },
 "nbformat": 4,
 "nbformat_minor": 0
}
